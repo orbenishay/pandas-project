{
  "nbformat": 4,
  "nbformat_minor": 0,
  "metadata": {
    "colab": {
      "name": "Copy of Bicycle.ipynb",
      "provenance": [],
      "collapsed_sections": [],
      "include_colab_link": true
    },
    "kernelspec": {
      "name": "python3",
      "display_name": "Python 3"
    }
  },
  "cells": [
    {
      "cell_type": "markdown",
      "metadata": {
        "id": "view-in-github",
        "colab_type": "text"
      },
      "source": [
        "<a href=\"https://colab.research.google.com/github/orbenishay/pandas-project/blob/master/Bicycle_10.ipynb\" target=\"_parent\"><img src=\"https://colab.research.google.com/assets/colab-badge.svg\" alt=\"Open In Colab\"/></a>"
      ]
    },
    {
      "cell_type": "markdown",
      "metadata": {
        "id": "VeMnX85ab1KK",
        "colab_type": "text"
      },
      "source": [
        "# **Bay Area Bike Rental** \n",
        "![alt text](https://media-cdn.tripadvisor.com/media/attractions-splice-spp-540x360/07/32/ba/20.jpg)"
      ]
    },
    {
      "cell_type": "code",
      "metadata": {
        "id": "mkJB1Pmzb1VP",
        "colab_type": "code",
        "colab": {}
      },
      "source": [
        "# Import modules\n",
        "import sys\n",
        "import pandas as pd\n",
        "import matplotlib.pyplot as plt\n",
        "import numpy as np\n",
        "%matplotlib inline\n",
        "from datetime import datetime\n",
        "import calendar"
      ],
      "execution_count": 0,
      "outputs": []
    },
    {
      "cell_type": "markdown",
      "metadata": {
        "id": "urVbV6btorCZ",
        "colab_type": "text"
      },
      "source": [
        "## **Background**\n",
        "the database includes bike rental data in San Francisco and the Bay area.<h5>\n",
        "The dataset consists of 4 tables: trips (95K rental entries) in addition to dimensions of bikes, station and weather.<h5>\n",
        "We cleanned the tables from unnecessary columns that we could calculate in the notebook, in order to speed the data load.\n"
      ]
    },
    {
      "cell_type": "markdown",
      "metadata": {
        "id": "QI8Tkwc-uZR9",
        "colab_type": "text"
      },
      "source": [
        "## Import Dataset"
      ]
    },
    {
      "cell_type": "code",
      "metadata": {
        "id": "eiOFLEwF3vPM",
        "colab_type": "code",
        "colab": {
          "resources": {
            "http://localhost:8080/nbextensions/google.colab/files.js": {
              "data": "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",
              "ok": true,
              "headers": [
                [
                  "content-type",
                  "application/javascript"
                ]
              ],
              "status": 200,
              "status_text": ""
            }
          },
          "base_uri": "https://localhost:8080/",
          "height": 75
        },
        "outputId": "a93aed05-b3f7-4ba8-dad1-3f338492a301"
      },
      "source": [
        "if 'google.colab' in sys.modules:\n",
        "    from google.colab import files\n",
        "    uploaded = files.upload()"
      ],
      "execution_count": 7,
      "outputs": [
        {
          "output_type": "display_data",
          "data": {
            "text/html": [
              "\n",
              "     <input type=\"file\" id=\"files-eca1a66d-60ab-4c70-9e81-17d8c1a90916\" name=\"files[]\" multiple disabled />\n",
              "     <output id=\"result-eca1a66d-60ab-4c70-9e81-17d8c1a90916\">\n",
              "      Upload widget is only available when the cell has been executed in the\n",
              "      current browser session. Please rerun this cell to enable.\n",
              "      </output>\n",
              "      <script src=\"/nbextensions/google.colab/files.js\"></script> "
            ],
            "text/plain": [
              "<IPython.core.display.HTML object>"
            ]
          },
          "metadata": {
            "tags": []
          }
        },
        {
          "output_type": "stream",
          "text": [
            "Saving bikes.csv to bikes.csv\n"
          ],
          "name": "stdout"
        }
      ]
    },
    {
      "cell_type": "markdown",
      "metadata": {
        "id": "LC-EOfatveew",
        "colab_type": "text"
      },
      "source": [
        "# Station DataFrame"
      ]
    },
    {
      "cell_type": "code",
      "metadata": {
        "id": "lNotvSvgvGlj",
        "colab_type": "code",
        "colab": {
          "base_uri": "https://localhost:8080/",
          "height": 234
        },
        "outputId": "92d178a4-8151-40f0-a70f-8cb3680f6eba"
      },
      "source": [
        "df_station = pd.read_csv(\"station.csv\", index_col = 'id')\n",
        "df_station.head()"
      ],
      "execution_count": 33,
      "outputs": [
        {
          "output_type": "execute_result",
          "data": {
            "text/html": [
              "<div>\n",
              "<style scoped>\n",
              "    .dataframe tbody tr th:only-of-type {\n",
              "        vertical-align: middle;\n",
              "    }\n",
              "\n",
              "    .dataframe tbody tr th {\n",
              "        vertical-align: top;\n",
              "    }\n",
              "\n",
              "    .dataframe thead th {\n",
              "        text-align: right;\n",
              "    }\n",
              "</style>\n",
              "<table border=\"1\" class=\"dataframe\">\n",
              "  <thead>\n",
              "    <tr style=\"text-align: right;\">\n",
              "      <th></th>\n",
              "      <th>station_name</th>\n",
              "      <th>lat</th>\n",
              "      <th>long</th>\n",
              "      <th>dock_count</th>\n",
              "      <th>city</th>\n",
              "      <th>installation_date</th>\n",
              "    </tr>\n",
              "    <tr>\n",
              "      <th>id</th>\n",
              "      <th></th>\n",
              "      <th></th>\n",
              "      <th></th>\n",
              "      <th></th>\n",
              "      <th></th>\n",
              "      <th></th>\n",
              "    </tr>\n",
              "  </thead>\n",
              "  <tbody>\n",
              "    <tr>\n",
              "      <th>2</th>\n",
              "      <td>San Jose Diridon Caltrain Station</td>\n",
              "      <td>37.329732</td>\n",
              "      <td>-121.901782</td>\n",
              "      <td>24</td>\n",
              "      <td>San Jose</td>\n",
              "      <td>08/06/2013</td>\n",
              "    </tr>\n",
              "    <tr>\n",
              "      <th>3</th>\n",
              "      <td>San Jose Civic Center</td>\n",
              "      <td>37.330698</td>\n",
              "      <td>-121.888979</td>\n",
              "      <td>30</td>\n",
              "      <td>San Jose</td>\n",
              "      <td>08/05/2013</td>\n",
              "    </tr>\n",
              "    <tr>\n",
              "      <th>4</th>\n",
              "      <td>Santa Clara at Almaden</td>\n",
              "      <td>37.333988</td>\n",
              "      <td>-121.894902</td>\n",
              "      <td>27</td>\n",
              "      <td>San Jose</td>\n",
              "      <td>08/06/2013</td>\n",
              "    </tr>\n",
              "    <tr>\n",
              "      <th>5</th>\n",
              "      <td>Adobe on Almaden</td>\n",
              "      <td>37.331415</td>\n",
              "      <td>-121.893200</td>\n",
              "      <td>16</td>\n",
              "      <td>San Jose</td>\n",
              "      <td>08/05/2013</td>\n",
              "    </tr>\n",
              "    <tr>\n",
              "      <th>6</th>\n",
              "      <td>San Pedro Square</td>\n",
              "      <td>37.336721</td>\n",
              "      <td>-121.894074</td>\n",
              "      <td>28</td>\n",
              "      <td>San Jose</td>\n",
              "      <td>08/07/2013</td>\n",
              "    </tr>\n",
              "  </tbody>\n",
              "</table>\n",
              "</div>"
            ],
            "text/plain": [
              "                         station_name        lat  ...      city  installation_date\n",
              "id                                                ...                             \n",
              "2   San Jose Diridon Caltrain Station  37.329732  ...  San Jose         08/06/2013\n",
              "3               San Jose Civic Center  37.330698  ...  San Jose         08/05/2013\n",
              "4              Santa Clara at Almaden  37.333988  ...  San Jose         08/06/2013\n",
              "5                    Adobe on Almaden  37.331415  ...  San Jose         08/05/2013\n",
              "6                    San Pedro Square  37.336721  ...  San Jose         08/07/2013\n",
              "\n",
              "[5 rows x 6 columns]"
            ]
          },
          "metadata": {
            "tags": []
          },
          "execution_count": 33
        }
      ]
    },
    {
      "cell_type": "code",
      "metadata": {
        "id": "IshQPoYrvKC4",
        "colab_type": "code",
        "outputId": "58079ca8-a0cf-43a9-ade1-66e7104f7f56",
        "colab": {
          "base_uri": "https://localhost:8080/",
          "height": 596
        }
      },
      "source": [
        "df_station.groupby('city')['station_name'].count().plot.pie(figsize=(8, 5))\n",
        "plt.legend(('Mountain View', 'Palo Alto', 'Redwood City','San Francisco','San Jose'),loc='left')\n",
        "plt.title('Proportion of # stations per ciry')"
      ],
      "execution_count": 22,
      "outputs": [
        {
          "output_type": "stream",
          "text": [
            "/usr/local/lib/python3.6/dist-packages/ipykernel_launcher.py:2: MatplotlibDeprecationWarning: Unrecognized location 'left'. Falling back on 'best'; valid locations are\n",
            "\tbest\n",
            "\tupper right\n",
            "\tupper left\n",
            "\tlower left\n",
            "\tlower right\n",
            "\tright\n",
            "\tcenter left\n",
            "\tcenter right\n",
            "\tlower center\n",
            "\tupper center\n",
            "\tcenter\n",
            "This will raise an exception in 3.3.\n",
            "  \n"
          ],
          "name": "stderr"
        },
        {
          "output_type": "execute_result",
          "data": {
            "text/plain": [
              "Text(0.5, 1.0, 'Proportion of # stations per ciry')"
            ]
          },
          "metadata": {
            "tags": []
          },
          "execution_count": 22
        },
        {
          "output_type": "display_data",
          "data": {
            "image/png": "[encoded data removed]",
            "text/plain": [
              "<Figure size 576x360 with 1 Axes>"
            ]
          },
          "metadata": {
            "tags": []
          }
        }
      ]
    },
    {
      "cell_type": "code",
      "metadata": {
        "id": "FaLCtIX83-9a",
        "colab_type": "code",
        "outputId": "b2c96820-45f2-4a80-b39d-2103678aa231",
        "colab": {
          "base_uri": "https://localhost:8080/",
          "height": 548
        }
      },
      "source": [
        "df_station.boxplot(by='city', column= 'dock_count')\n",
        "df_station.drop(columns = ['lat', 'long']).groupby('city').describe()"
      ],
      "execution_count": 38,
      "outputs": [
        {
          "output_type": "execute_result",
          "data": {
            "text/html": [
              "<div>\n",
              "<style scoped>\n",
              "    .dataframe tbody tr th:only-of-type {\n",
              "        vertical-align: middle;\n",
              "    }\n",
              "\n",
              "    .dataframe tbody tr th {\n",
              "        vertical-align: top;\n",
              "    }\n",
              "\n",
              "    .dataframe thead tr th {\n",
              "        text-align: left;\n",
              "    }\n",
              "\n",
              "    .dataframe thead tr:last-of-type th {\n",
              "        text-align: right;\n",
              "    }\n",
              "</style>\n",
              "<table border=\"1\" class=\"dataframe\">\n",
              "  <thead>\n",
              "    <tr>\n",
              "      <th></th>\n",
              "      <th colspan=\"8\" halign=\"left\">dock_count</th>\n",
              "    </tr>\n",
              "    <tr>\n",
              "      <th></th>\n",
              "      <th>count</th>\n",
              "      <th>mean</th>\n",
              "      <th>std</th>\n",
              "      <th>min</th>\n",
              "      <th>25%</th>\n",
              "      <th>50%</th>\n",
              "      <th>75%</th>\n",
              "      <th>max</th>\n",
              "    </tr>\n",
              "    <tr>\n",
              "      <th>city</th>\n",
              "      <th></th>\n",
              "      <th></th>\n",
              "      <th></th>\n",
              "      <th></th>\n",
              "      <th></th>\n",
              "      <th></th>\n",
              "      <th></th>\n",
              "      <th></th>\n",
              "    </tr>\n",
              "  </thead>\n",
              "  <tbody>\n",
              "    <tr>\n",
              "      <th>Mountain View</th>\n",
              "      <td>7.0</td>\n",
              "      <td>11.000000</td>\n",
              "      <td>3.162278</td>\n",
              "      <td>5.0</td>\n",
              "      <td>10.00</td>\n",
              "      <td>12.0</td>\n",
              "      <td>12.5</td>\n",
              "      <td>15.0</td>\n",
              "    </tr>\n",
              "    <tr>\n",
              "      <th>Palo Alto</th>\n",
              "      <td>5.0</td>\n",
              "      <td>29.000000</td>\n",
              "      <td>8.916277</td>\n",
              "      <td>20.0</td>\n",
              "      <td>23.00</td>\n",
              "      <td>28.0</td>\n",
              "      <td>31.0</td>\n",
              "      <td>43.0</td>\n",
              "    </tr>\n",
              "    <tr>\n",
              "      <th>Redwood City</th>\n",
              "      <td>7.0</td>\n",
              "      <td>19.428571</td>\n",
              "      <td>5.380742</td>\n",
              "      <td>11.0</td>\n",
              "      <td>17.00</td>\n",
              "      <td>19.0</td>\n",
              "      <td>22.5</td>\n",
              "      <td>27.0</td>\n",
              "    </tr>\n",
              "    <tr>\n",
              "      <th>San Francisco</th>\n",
              "      <td>35.0</td>\n",
              "      <td>29.714286</td>\n",
              "      <td>8.827002</td>\n",
              "      <td>15.0</td>\n",
              "      <td>22.50</td>\n",
              "      <td>30.0</td>\n",
              "      <td>36.5</td>\n",
              "      <td>43.0</td>\n",
              "    </tr>\n",
              "    <tr>\n",
              "      <th>San Jose</th>\n",
              "      <td>16.0</td>\n",
              "      <td>22.937500</td>\n",
              "      <td>4.343098</td>\n",
              "      <td>16.0</td>\n",
              "      <td>19.75</td>\n",
              "      <td>22.0</td>\n",
              "      <td>27.0</td>\n",
              "      <td>30.0</td>\n",
              "    </tr>\n",
              "  </tbody>\n",
              "</table>\n",
              "</div>"
            ],
            "text/plain": [
              "              dock_count                                                    \n",
              "                   count       mean       std   min    25%   50%   75%   max\n",
              "city                                                                        \n",
              "Mountain View        7.0  11.000000  3.162278   5.0  10.00  12.0  12.5  15.0\n",
              "Palo Alto            5.0  29.000000  8.916277  20.0  23.00  28.0  31.0  43.0\n",
              "Redwood City         7.0  19.428571  5.380742  11.0  17.00  19.0  22.5  27.0\n",
              "San Francisco       35.0  29.714286  8.827002  15.0  22.50  30.0  36.5  43.0\n",
              "San Jose            16.0  22.937500  4.343098  16.0  19.75  22.0  27.0  30.0"
            ]
          },
          "metadata": {
            "tags": []
          },
          "execution_count": 38
        },
        {
          "output_type": "display_data",
          "data": {
            "image/png": "[encoded data removed]",
            "text/plain": [
              "<Figure size 432x288 with 1 Axes>"
            ]
          },
          "metadata": {
            "tags": []
          }
        }
      ]
    },
    {
      "cell_type": "markdown",
      "metadata": {
        "id": "yz7AbvHeu0v5",
        "colab_type": "text"
      },
      "source": [
        "## Weather DataFrame"
      ]
    },
    {
      "cell_type": "code",
      "metadata": {
        "id": "thrt3wr-Jywy",
        "colab_type": "code",
        "outputId": "6afefb23-84d0-4529-8e5f-30eba6983e2b",
        "colab": {
          "base_uri": "https://localhost:8080/",
          "height": 235
        }
      },
      "source": [
        "df_weather = pd.read_csv(\"weather.csv\", parse_dates=['date'])\n",
        "df_weather['mean_temperature_c'] = (df_weather['mean_temperature_f'] - 32)*(5/9)\n",
        "df_weather['date_month'] = pd.DatetimeIndex(df_weather['date']).month\n",
        "df_weather['date_day'] = pd.DatetimeIndex(df_weather['date']).day\n",
        "df_weather['month'] = df_weather['date_month'].apply(lambda x: calendar.month_abbr[x])\n",
        "df_weather.head()"
      ],
      "execution_count": 0,
      "outputs": [
        {
          "output_type": "execute_result",
          "data": {
            "text/html": [
              "<div>\n",
              "<style scoped>\n",
              "    .dataframe tbody tr th:only-of-type {\n",
              "        vertical-align: middle;\n",
              "    }\n",
              "\n",
              "    .dataframe tbody tr th {\n",
              "        vertical-align: top;\n",
              "    }\n",
              "\n",
              "    .dataframe thead th {\n",
              "        text-align: right;\n",
              "    }\n",
              "</style>\n",
              "<table border=\"1\" class=\"dataframe\">\n",
              "  <thead>\n",
              "    <tr style=\"text-align: right;\">\n",
              "      <th></th>\n",
              "      <th>station_name</th>\n",
              "      <th>lat</th>\n",
              "      <th>long</th>\n",
              "      <th>dock_count</th>\n",
              "      <th>city</th>\n",
              "      <th>installation_date</th>\n",
              "    </tr>\n",
              "    <tr>\n",
              "      <th>id</th>\n",
              "      <th></th>\n",
              "      <th></th>\n",
              "      <th></th>\n",
              "      <th></th>\n",
              "      <th></th>\n",
              "      <th></th>\n",
              "    </tr>\n",
              "  </thead>\n",
              "  <tbody>\n",
              "    <tr>\n",
              "      <th>2</th>\n",
              "      <td>San Jose Diridon Caltrain Station</td>\n",
              "      <td>37.329732</td>\n",
              "      <td>-121.901782</td>\n",
              "      <td>27</td>\n",
              "      <td>San Jose</td>\n",
              "      <td>08/06/2013</td>\n",
              "    </tr>\n",
              "    <tr>\n",
              "      <th>3</th>\n",
              "      <td>San Jose Civic Center</td>\n",
              "      <td>37.330698</td>\n",
              "      <td>-121.888979</td>\n",
              "      <td>15</td>\n",
              "      <td>San Jose</td>\n",
              "      <td>08/05/2013</td>\n",
              "    </tr>\n",
              "    <tr>\n",
              "      <th>4</th>\n",
              "      <td>Santa Clara at Almaden</td>\n",
              "      <td>37.333988</td>\n",
              "      <td>-121.894902</td>\n",
              "      <td>11</td>\n",
              "      <td>San Jose</td>\n",
              "      <td>08/06/2013</td>\n",
              "    </tr>\n",
              "    <tr>\n",
              "      <th>5</th>\n",
              "      <td>Adobe on Almaden</td>\n",
              "      <td>37.331415</td>\n",
              "      <td>-121.893200</td>\n",
              "      <td>19</td>\n",
              "      <td>San Jose</td>\n",
              "      <td>08/05/2013</td>\n",
              "    </tr>\n",
              "    <tr>\n",
              "      <th>6</th>\n",
              "      <td>San Pedro Square</td>\n",
              "      <td>37.336721</td>\n",
              "      <td>-121.894074</td>\n",
              "      <td>15</td>\n",
              "      <td>San Jose</td>\n",
              "      <td>08/07/2013</td>\n",
              "    </tr>\n",
              "  </tbody>\n",
              "</table>\n",
              "</div>"
            ],
            "text/plain": [
              "                         station_name        lat  ...      city  installation_date\n",
              "id                                                ...                             \n",
              "2   San Jose Diridon Caltrain Station  37.329732  ...  San Jose         08/06/2013\n",
              "3               San Jose Civic Center  37.330698  ...  San Jose         08/05/2013\n",
              "4              Santa Clara at Almaden  37.333988  ...  San Jose         08/06/2013\n",
              "5                    Adobe on Almaden  37.331415  ...  San Jose         08/05/2013\n",
              "6                    San Pedro Square  37.336721  ...  San Jose         08/07/2013\n",
              "\n",
              "[5 rows x 6 columns]"
            ]
          },
          "metadata": {
            "tags": []
          },
          "execution_count": 9
        }
      ]
    },
    {
      "cell_type": "code",
      "metadata": {
        "id": "MmLrZrxw0Gr4",
        "colab_type": "code",
        "colab": {}
      },
      "source": [
        "df_weather.groupby('date_month',)['mean_temperature_c'].mean().plot.bar()\n",
        "df_weather_agg=df_weather.groupby(['date_month']).agg({'mean_temperature_c': 'mean', 'mean_wind_speed_kph': 'mean', 'mean_humidity': 'mean'})\n",
        "\n",
        "df_weather_agg.plot(kind='bar', stacked=False, figsize=(8, 5), subplots=True)"
      ],
      "execution_count": 0,
      "outputs": []
    },
    {
      "cell_type": "code",
      "metadata": {
        "id": "J6uLqwLPbpjQ",
        "colab_type": "code",
        "outputId": "ec2017d7-2e78-4fe6-f9dc-dc228d58ebf3",
        "colab": {
          "base_uri": "https://localhost:8080/",
          "height": 300
        }
      },
      "source": [
        "df_weather.groupby('date_month')['mean_temperature_c'].mean().plot.bar()"
      ],
      "execution_count": 0,
      "outputs": [
        {
          "output_type": "execute_result",
          "data": {
            "text/plain": [
              "<matplotlib.axes._subplots.AxesSubplot at 0x7f01b7cb0978>"
            ]
          },
          "metadata": {
            "tags": []
          },
          "execution_count": 14
        },
        {
          "output_type": "display_data",
          "data": {
            "image/png": "[encoded data removed]",
            "text/plain": [
              "<Figure size 432x288 with 1 Axes>"
            ]
          },
          "metadata": {
            "tags": []
          }
        }
      ]
    },
    {
      "cell_type": "code",
      "metadata": {
        "id": "aHmnvo17xBn2",
        "colab_type": "code",
        "outputId": "3f5a2f54-5cb4-41a2-c474-76b754d2ed16",
        "colab": {
          "base_uri": "https://localhost:8080/",
          "height": 319
        }
      },
      "source": [
        "df_weather.groupby('zip_code')['mean_temperature_c'].mean().plot.bar()"
      ],
      "execution_count": 0,
      "outputs": [
        {
          "output_type": "execute_result",
          "data": {
            "text/plain": [
              "<matplotlib.axes._subplots.AxesSubplot at 0x7f01b54a0668>"
            ]
          },
          "metadata": {
            "tags": []
          },
          "execution_count": 32
        },
        {
          "output_type": "display_data",
          "data": {
            "image/png": "[encoded data removed]",
            "text/plain": [
              "<Figure size 432x288 with 1 Axes>"
            ]
          },
          "metadata": {
            "tags": []
          }
        }
      ]
    },
    {
      "cell_type": "code",
      "metadata": {
        "id": "sWSYVMplfQuy",
        "colab_type": "code",
        "outputId": "92d997de-6298-47ab-d5a3-5a93d312d0b5",
        "colab": {
          "base_uri": "https://localhost:8080/",
          "height": 383
        }
      },
      "source": [
        "df_weather.groupby('events')['mean_temperature_c'].mean().plot.bar()"
      ],
      "execution_count": 0,
      "outputs": [
        {
          "output_type": "execute_result",
          "data": {
            "text/plain": [
              "<matplotlib.axes._subplots.AxesSubplot at 0x7f01b64eb390>"
            ]
          },
          "metadata": {
            "tags": []
          },
          "execution_count": 15
        },
        {
          "output_type": "display_data",
          "data": {
            "image/png": "[encoded data removed]",
            "text/plain": [
              "<Figure size 432x288 with 1 Axes>"
            ]
          },
          "metadata": {
            "tags": []
          }
        }
      ]
    },
    {
      "cell_type": "markdown",
      "metadata": {
        "id": "ACAOeanRv4Vm",
        "colab_type": "text"
      },
      "source": [
        "## Trip DataFrame"
      ]
    },
    {
      "cell_type": "code",
      "metadata": {
        "id": "edkKCGwFKjFl",
        "colab_type": "code",
        "colab": {}
      },
      "source": [
        "df_trip = pd.read_csv(\"trip.csv\", parse_dates=True)\n",
        "df_trip['start_date'] = pd.to_datetime(df_trip['start_date'], errors='coerce', dayfirst=True)\n",
        "df_trip['end_date'] = pd.to_datetime(df_trip['end_date'], errors='coerce', dayfirst=True)\n",
        "df_trip['date_day']=df_trip['start_date'].dt.date\n",
        "df_trip['duration']=df_trip['end_date']-df_trip['start_date']\n",
        "df_trip['start_date'] = df_trip['start_date'].dt.date\n",
        "df_trip.head()"
      ],
      "execution_count": 0,
      "outputs": []
    },
    {
      "cell_type": "code",
      "metadata": {
        "id": "YPIO7H08N575",
        "colab_type": "code",
        "outputId": "fd0d2fd5-cd3d-40ea-fd47-abe5d7337b66",
        "colab": {
          "base_uri": "https://localhost:8080/",
          "height": 234
        }
      },
      "source": [
        "df_trip_subscription = df_trip.groupby(['subscription_type', 'zip_code'])['id'].count().unstack(0).plot.pie(subplots=True, figsize=(8,8))"
      ],
      "execution_count": 0,
      "outputs": [
        {
          "output_type": "display_data",
          "data": {
            "image/png": "[encoded data removed]",
            "text/plain": [
              "<Figure size 576x576 with 2 Axes>"
            ]
          },
          "metadata": {
            "tags": []
          }
        }
      ]
    },
    {
      "cell_type": "code",
      "metadata": {
        "id": "WjNmPztfQpaB",
        "colab_type": "code",
        "outputId": "f1102290-6c00-41ed-c918-f94498b62d2b",
        "colab": {
          "base_uri": "https://localhost:8080/",
          "height": 185
        }
      },
      "source": [
        "df_trip_zipcode = df_trip.groupby(['subscription_type', 'zip_code'])['id'].count().unstack(1).plot.pie(subplots=True, figsize=(16,16))"
      ],
      "execution_count": 0,
      "outputs": [
        {
          "output_type": "display_data",
          "data": {
            "image/png": "[encoded data removed]",
            "text/plain": [
              "<Figure size 1152x1152 with 5 Axes>"
            ]
          },
          "metadata": {
            "tags": []
          }
        }
      ]
    },
    {
      "cell_type": "code",
      "metadata": {
        "id": "8zK94ioPQ5yH",
        "colab_type": "code",
        "outputId": "26cc31c3-a6eb-4263-bf80-2f6bf2f624fc",
        "colab": {
          "base_uri": "https://localhost:8080/",
          "height": 330
        }
      },
      "source": [
        "df_trip.groupby('zip_code')['id'].sum().plot.bar()"
      ],
      "execution_count": 0,
      "outputs": [
        {
          "output_type": "execute_result",
          "data": {
            "text/plain": [
              "<matplotlib.axes._subplots.AxesSubplot at 0x7f01af0e2cc0>"
            ]
          },
          "metadata": {
            "tags": []
          },
          "execution_count": 166
        },
        {
          "output_type": "display_data",
          "data": {
            "image/png": "[encoded data removed]",
            "text/plain": [
              "<Figure size 432x288 with 1 Axes>"
            ]
          },
          "metadata": {
            "tags": []
          }
        }
      ]
    },
    {
      "cell_type": "markdown",
      "metadata": {
        "id": "3ZQ0wLORwQtM",
        "colab_type": "text"
      },
      "source": [
        "## Bikes DataFrame"
      ]
    },
    {
      "cell_type": "code",
      "metadata": {
        "id": "Vab_855VvwqF",
        "colab_type": "code",
        "outputId": "abc9a895-0546-4600-d744-a9c236a8942f",
        "colab": {
          "base_uri": "https://localhost:8080/",
          "height": 368
        }
      },
      "source": [
        "df_bikes = pd.read_csv(\"bikes.csv\", index_col = 'bike_id')\n",
        "\n",
        "plot = df_bikes.groupby(['bike_brand', 'bike_type', 'bike_color']).agg({'bike_brand':'count'}).unstack(2).plot.bar()"
      ],
      "execution_count": 0,
      "outputs": [
        {
          "output_type": "display_data",
          "data": {
            "image/png": "[encoded data removed]",
            "text/plain": [
              "<Figure size 432x288 with 1 Axes>"
            ]
          },
          "metadata": {
            "tags": []
          }
        }
      ]
    },
    {
      "cell_type": "markdown",
      "metadata": {
        "id": "MN7cMophwz7Q",
        "colab_type": "text"
      },
      "source": [
        "## **Merge**"
      ]
    },
    {
      "cell_type": "markdown",
      "metadata": {
        "id": "OFN7FOmow7ik",
        "colab_type": "text"
      },
      "source": [
        "We merged all the tables into one big table"
      ]
    },
    {
      "cell_type": "code",
      "metadata": {
        "id": "uGRX5ayAw2y6",
        "colab_type": "code",
        "colab": {}
      },
      "source": [
        "df_trip_weather = df_trip.merge(df_weather, how='left', left_on = ['zip_code', 'date_day'], right_on=['zip_code','date'])\n",
        "df_trip_weather_station = df_trip_weather.merge(df_station, how='left', left_on = 'start_station_id', right_on='id')\n",
        "df_all = df_trip_weather_station.merge(df_bikes, how='left', left_on = 'bike_id', right_on='bike_id')\n",
        "df_all.head()"
      ],
      "execution_count": 0,
      "outputs": []
    },
    {
      "cell_type": "markdown",
      "metadata": {
        "id": "xe3T3E0rx-ey",
        "colab_type": "text"
      },
      "source": [
        "# Most popular stations by city\n",
        "\n",
        "* Most of the stations are in San Francisco\n",
        "* The most popular station is in San Fracisco: 'Mountain View City Hal'"
      ]
    },
    {
      "cell_type": "code",
      "metadata": {
        "id": "eypihOMn79bu",
        "colab_type": "code",
        "outputId": "892d400b-42bf-480a-f234-7694894d2905",
        "colab": {
          "base_uri": "https://localhost:8080/",
          "height": 289
        }
      },
      "source": [
        "df_station_count = df_trip.merge(df_station, how='left', left_on = 'start_station_id', right_on='id')\n",
        "df_station_count.head()"
      ],
      "execution_count": 0,
      "outputs": [
        {
          "output_type": "execute_result",
          "data": {
            "text/html": [
              "<div>\n",
              "<style scoped>\n",
              "    .dataframe tbody tr th:only-of-type {\n",
              "        vertical-align: middle;\n",
              "    }\n",
              "\n",
              "    .dataframe tbody tr th {\n",
              "        vertical-align: top;\n",
              "    }\n",
              "\n",
              "    .dataframe thead th {\n",
              "        text-align: right;\n",
              "    }\n",
              "</style>\n",
              "<table border=\"1\" class=\"dataframe\">\n",
              "  <thead>\n",
              "    <tr style=\"text-align: right;\">\n",
              "      <th></th>\n",
              "      <th>start_station_id</th>\n",
              "      <th>end_station_id</th>\n",
              "      <th>bike_id</th>\n",
              "      <th>subscription_type</th>\n",
              "      <th>zip_code</th>\n",
              "      <th>start_date</th>\n",
              "      <th>end_date_orig</th>\n",
              "      <th>end_date</th>\n",
              "      <th>date_day</th>\n",
              "      <th>duration</th>\n",
              "      <th>station_name</th>\n",
              "      <th>lat</th>\n",
              "      <th>long</th>\n",
              "      <th>dock_count</th>\n",
              "      <th>city</th>\n",
              "      <th>installation_date</th>\n",
              "    </tr>\n",
              "  </thead>\n",
              "  <tbody>\n",
              "    <tr>\n",
              "      <th>0</th>\n",
              "      <td>35</td>\n",
              "      <td>35</td>\n",
              "      <td>247</td>\n",
              "      <td>Customer</td>\n",
              "      <td>94301</td>\n",
              "      <td>2013-11-30 13:29:00</td>\n",
              "      <td>08/12/2013 22:06</td>\n",
              "      <td>2013-12-08 22:49:00</td>\n",
              "      <td>2013-11-30</td>\n",
              "      <td>8 days 09:20:00</td>\n",
              "      <td>University and Emerson</td>\n",
              "      <td>37.444521</td>\n",
              "      <td>-122.163093</td>\n",
              "      <td>11</td>\n",
              "      <td>Palo Alto</td>\n",
              "      <td>8/15/2013</td>\n",
              "    </tr>\n",
              "    <tr>\n",
              "      <th>1</th>\n",
              "      <td>2</td>\n",
              "      <td>12</td>\n",
              "      <td>653</td>\n",
              "      <td>Subscriber</td>\n",
              "      <td>94041</td>\n",
              "      <td>2013-12-18 09:16:00</td>\n",
              "      <td>25/12/2013 13:18</td>\n",
              "      <td>2013-12-25 13:29:00</td>\n",
              "      <td>2013-12-18</td>\n",
              "      <td>7 days 04:13:00</td>\n",
              "      <td>San Jose Diridon Caltrain Station</td>\n",
              "      <td>37.329732</td>\n",
              "      <td>-121.901782</td>\n",
              "      <td>27</td>\n",
              "      <td>San Jose</td>\n",
              "      <td>08/06/2013</td>\n",
              "    </tr>\n",
              "    <tr>\n",
              "      <th>2</th>\n",
              "      <td>27</td>\n",
              "      <td>27</td>\n",
              "      <td>13</td>\n",
              "      <td>Customer</td>\n",
              "      <td>94041</td>\n",
              "      <td>2014-07-15 16:23:00</td>\n",
              "      <td>19/07/2014 17:18</td>\n",
              "      <td>2014-07-19 17:45:00</td>\n",
              "      <td>2014-07-15</td>\n",
              "      <td>4 days 01:22:00</td>\n",
              "      <td>Mountain View City Hall</td>\n",
              "      <td>37.389218</td>\n",
              "      <td>-122.081896</td>\n",
              "      <td>15</td>\n",
              "      <td>Mountain View</td>\n",
              "      <td>8/16/2013</td>\n",
              "    </tr>\n",
              "    <tr>\n",
              "      <th>3</th>\n",
              "      <td>27</td>\n",
              "      <td>27</td>\n",
              "      <td>126</td>\n",
              "      <td>Customer</td>\n",
              "      <td>94041</td>\n",
              "      <td>2014-07-15 16:23:00</td>\n",
              "      <td>19/07/2014 08:47</td>\n",
              "      <td>2014-07-19 09:21:00</td>\n",
              "      <td>2014-07-15</td>\n",
              "      <td>3 days 16:58:00</td>\n",
              "      <td>Mountain View City Hall</td>\n",
              "      <td>37.389218</td>\n",
              "      <td>-122.081896</td>\n",
              "      <td>15</td>\n",
              "      <td>Mountain View</td>\n",
              "      <td>8/16/2013</td>\n",
              "    </tr>\n",
              "    <tr>\n",
              "      <th>4</th>\n",
              "      <td>14</td>\n",
              "      <td>6</td>\n",
              "      <td>650</td>\n",
              "      <td>Customer</td>\n",
              "      <td>95113</td>\n",
              "      <td>2013-09-15 00:37:00</td>\n",
              "      <td>17/09/2013 18:28</td>\n",
              "      <td>2013-09-17 19:04:00</td>\n",
              "      <td>2013-09-15</td>\n",
              "      <td>2 days 18:27:00</td>\n",
              "      <td>Arena Green / SAP Center</td>\n",
              "      <td>37.332692</td>\n",
              "      <td>-121.900084</td>\n",
              "      <td>19</td>\n",
              "      <td>San Jose</td>\n",
              "      <td>08/05/2013</td>\n",
              "    </tr>\n",
              "  </tbody>\n",
              "</table>\n",
              "</div>"
            ],
            "text/plain": [
              "   start_station_id  end_station_id  ...           city installation_date\n",
              "0                35              35  ...      Palo Alto         8/15/2013\n",
              "1                 2              12  ...       San Jose        08/06/2013\n",
              "2                27              27  ...  Mountain View         8/16/2013\n",
              "3                27              27  ...  Mountain View         8/16/2013\n",
              "4                14               6  ...       San Jose        08/05/2013\n",
              "\n",
              "[5 rows x 16 columns]"
            ]
          },
          "metadata": {
            "tags": []
          },
          "execution_count": 19
        }
      ]
    },
    {
      "cell_type": "code",
      "metadata": {
        "id": "tII547eGeCe9",
        "colab_type": "code",
        "colab": {}
      },
      "source": [
        "#df_station_count.groupby(['station_name', 'city']).agg({'station_name':'count'}).plot.bar(figsize=(12,8))"
      ],
      "execution_count": 0,
      "outputs": []
    },
    {
      "cell_type": "code",
      "metadata": {
        "id": "1wS3aqAtZN1G",
        "colab_type": "code",
        "outputId": "799a21da-7a31-48b9-a180-03eb4af02ec4",
        "colab": {
          "base_uri": "https://localhost:8080/",
          "height": 481
        }
      },
      "source": [
        "station_by_city = df_station_count.groupby(['station_name', 'city']).agg({'station_name':'count'}).unstack(1)\n",
        "\n",
        "station_by_city"
      ],
      "execution_count": 0,
      "outputs": [
        {
          "output_type": "execute_result",
          "data": {
            "text/html": [
              "<div>\n",
              "<style scoped>\n",
              "    .dataframe tbody tr th:only-of-type {\n",
              "        vertical-align: middle;\n",
              "    }\n",
              "\n",
              "    .dataframe tbody tr th {\n",
              "        vertical-align: top;\n",
              "    }\n",
              "\n",
              "    .dataframe thead tr th {\n",
              "        text-align: left;\n",
              "    }\n",
              "\n",
              "    .dataframe thead tr:last-of-type th {\n",
              "        text-align: right;\n",
              "    }\n",
              "</style>\n",
              "<table border=\"1\" class=\"dataframe\">\n",
              "  <thead>\n",
              "    <tr>\n",
              "      <th></th>\n",
              "      <th colspan=\"5\" halign=\"left\">station_name</th>\n",
              "    </tr>\n",
              "    <tr>\n",
              "      <th>city</th>\n",
              "      <th>Mountain View</th>\n",
              "      <th>Palo Alto</th>\n",
              "      <th>Redwood City</th>\n",
              "      <th>San Francisco</th>\n",
              "      <th>San Jose</th>\n",
              "    </tr>\n",
              "    <tr>\n",
              "      <th>station_name</th>\n",
              "      <th></th>\n",
              "      <th></th>\n",
              "      <th></th>\n",
              "      <th></th>\n",
              "      <th></th>\n",
              "    </tr>\n",
              "  </thead>\n",
              "  <tbody>\n",
              "    <tr>\n",
              "      <th>2nd at Folsom</th>\n",
              "      <td>NaN</td>\n",
              "      <td>NaN</td>\n",
              "      <td>NaN</td>\n",
              "      <td>4704.0</td>\n",
              "      <td>NaN</td>\n",
              "    </tr>\n",
              "    <tr>\n",
              "      <th>2nd at South Park</th>\n",
              "      <td>NaN</td>\n",
              "      <td>NaN</td>\n",
              "      <td>NaN</td>\n",
              "      <td>5740.0</td>\n",
              "      <td>NaN</td>\n",
              "    </tr>\n",
              "    <tr>\n",
              "      <th>2nd at Townsend</th>\n",
              "      <td>NaN</td>\n",
              "      <td>NaN</td>\n",
              "      <td>NaN</td>\n",
              "      <td>7575.0</td>\n",
              "      <td>NaN</td>\n",
              "    </tr>\n",
              "    <tr>\n",
              "      <th>5th at Howard</th>\n",
              "      <td>NaN</td>\n",
              "      <td>NaN</td>\n",
              "      <td>NaN</td>\n",
              "      <td>2806.0</td>\n",
              "      <td>NaN</td>\n",
              "    </tr>\n",
              "    <tr>\n",
              "      <th>Adobe on Almaden</th>\n",
              "      <td>NaN</td>\n",
              "      <td>NaN</td>\n",
              "      <td>NaN</td>\n",
              "      <td>NaN</td>\n",
              "      <td>65.0</td>\n",
              "    </tr>\n",
              "    <tr>\n",
              "      <th>...</th>\n",
              "      <td>...</td>\n",
              "      <td>...</td>\n",
              "      <td>...</td>\n",
              "      <td>...</td>\n",
              "      <td>...</td>\n",
              "    </tr>\n",
              "    <tr>\n",
              "      <th>Temporary Transbay Terminal (Howard at Beale)</th>\n",
              "      <td>NaN</td>\n",
              "      <td>NaN</td>\n",
              "      <td>NaN</td>\n",
              "      <td>1941.0</td>\n",
              "      <td>NaN</td>\n",
              "    </tr>\n",
              "    <tr>\n",
              "      <th>Townsend at 7th</th>\n",
              "      <td>NaN</td>\n",
              "      <td>NaN</td>\n",
              "      <td>NaN</td>\n",
              "      <td>7234.0</td>\n",
              "      <td>NaN</td>\n",
              "    </tr>\n",
              "    <tr>\n",
              "      <th>University and Emerson</th>\n",
              "      <td>NaN</td>\n",
              "      <td>239.0</td>\n",
              "      <td>NaN</td>\n",
              "      <td>NaN</td>\n",
              "      <td>NaN</td>\n",
              "    </tr>\n",
              "    <tr>\n",
              "      <th>Washington at Kearney</th>\n",
              "      <td>NaN</td>\n",
              "      <td>NaN</td>\n",
              "      <td>NaN</td>\n",
              "      <td>357.0</td>\n",
              "      <td>NaN</td>\n",
              "    </tr>\n",
              "    <tr>\n",
              "      <th>Yerba Buena Center of the Arts (3rd @ Howard)</th>\n",
              "      <td>NaN</td>\n",
              "      <td>NaN</td>\n",
              "      <td>NaN</td>\n",
              "      <td>2360.0</td>\n",
              "      <td>NaN</td>\n",
              "    </tr>\n",
              "  </tbody>\n",
              "</table>\n",
              "<p>70 rows × 5 columns</p>\n",
              "</div>"
            ],
            "text/plain": [
              "                                               station_name  ...         \n",
              "city                                          Mountain View  ... San Jose\n",
              "station_name                                                 ...         \n",
              "2nd at Folsom                                           NaN  ...      NaN\n",
              "2nd at South Park                                       NaN  ...      NaN\n",
              "2nd at Townsend                                         NaN  ...      NaN\n",
              "5th at Howard                                           NaN  ...      NaN\n",
              "Adobe on Almaden                                        NaN  ...     65.0\n",
              "...                                                     ...  ...      ...\n",
              "Temporary Transbay Terminal (Howard at Beale)           NaN  ...      NaN\n",
              "Townsend at 7th                                         NaN  ...      NaN\n",
              "University and Emerson                                  NaN  ...      NaN\n",
              "Washington at Kearney                                   NaN  ...      NaN\n",
              "Yerba Buena Center of the Arts (3rd @ Howard)           NaN  ...      NaN\n",
              "\n",
              "[70 rows x 5 columns]"
            ]
          },
          "metadata": {
            "tags": []
          },
          "execution_count": 20
        }
      ]
    },
    {
      "cell_type": "code",
      "metadata": {
        "id": "Tp7MGTk6ZFfw",
        "colab_type": "code",
        "outputId": "0b6f7551-f4e3-4535-9277-8d0fc538d577",
        "colab": {
          "base_uri": "https://localhost:8080/",
          "height": 749
        }
      },
      "source": [
        "station_by_city.sort_values().plot(kind='bar',figsize=(12,8))"
      ],
      "execution_count": 0,
      "outputs": [
        {
          "output_type": "execute_result",
          "data": {
            "text/plain": [
              "<matplotlib.axes._subplots.AxesSubplot at 0x7f01b1385860>"
            ]
          },
          "metadata": {
            "tags": []
          },
          "execution_count": 171
        },
        {
          "output_type": "display_data",
          "data": {
            "image/png": "[encoded data removed]",
            "text/plain": [
              "<Figure size 864x576 with 1 Axes>"
            ]
          },
          "metadata": {
            "tags": []
          }
        }
      ]
    },
    {
      "cell_type": "markdown",
      "metadata": {
        "id": "EhI4bGIN0xTE",
        "colab_type": "text"
      },
      "source": [
        "## Trip duration dependency on weather condition\n",
        "\n",
        "* there is significant variation of trips duration\n",
        "* most of the rents was at 15-25 celciuse"
      ]
    },
    {
      "cell_type": "code",
      "metadata": {
        "id": "4xXiEhkGuC-D",
        "colab_type": "code",
        "colab": {}
      },
      "source": [
        "df_duration_weather['mean_temperature_c_bins'] = pd.cut(x= df_duration_weather['mean_temperature_c'], bins= 3, labels= ['0-15', '16-25', '26-70'], duplicates = 'drop')\n",
        "df_duration_weather.head()\n"
      ],
      "execution_count": 0,
      "outputs": []
    },
    {
      "cell_type": "code",
      "metadata": {
        "id": "jZJLgDw1Rk64",
        "colab_type": "code",
        "outputId": "a9962c8c-c855-4b4c-bef2-24f416e71f5f",
        "colab": {
          "base_uri": "https://localhost:8080/",
          "height": 238
        }
      },
      "source": [
        "#df_all['mean_temperature_c_bins'] = pd.cut(x= df_all['mean_temperature_c'], bins= 3, labels= ['0-15', '16-25', '26-70'], duplicates = 'drop')\n",
        "\n",
        "df_all.groupby('duration')['mean_temperature_c'].mean()\n"
      ],
      "execution_count": 0,
      "outputs": [
        {
          "output_type": "execute_result",
          "data": {
            "text/plain": [
              "duration\n",
              "0 days 00:01:00    17.277778\n",
              "0 days 00:02:00    15.401235\n",
              "0 days 00:03:00    15.365591\n",
              "0 days 00:04:00    15.935754\n",
              "0 days 00:05:00    15.740365\n",
              "                     ...    \n",
              "2 days 18:27:00    20.000000\n",
              "3 days 16:58:00    21.666667\n",
              "4 days 01:22:00    21.666667\n",
              "7 days 04:13:00    10.000000\n",
              "8 days 09:20:00    12.777778\n",
              "Name: mean_temperature_c, Length: 499, dtype: float64"
            ]
          },
          "metadata": {
            "tags": []
          },
          "execution_count": 183
        }
      ]
    },
    {
      "cell_type": "code",
      "metadata": {
        "id": "04LoawMQWA6C",
        "colab_type": "code",
        "outputId": "3684cc9d-21b8-4f23-99e7-8d1c946cc22a",
        "colab": {
          "base_uri": "https://localhost:8080/",
          "height": 173
        }
      },
      "source": [
        "df_all['mean_temperature_c_bins'] = pd.cut(x= df_all['mean_temperature_c'], bins= 3, labels= ['0-15', '16-25', '26-50'], duplicates = 'drop')\n",
        "\n",
        "df_all.groupby('mean_temperature_c_bins')['mean_temperature_c', 'duration'].mean()\n"
      ],
      "execution_count": 0,
      "outputs": [
        {
          "output_type": "execute_result",
          "data": {
            "text/html": [
              "<div>\n",
              "<style scoped>\n",
              "    .dataframe tbody tr th:only-of-type {\n",
              "        vertical-align: middle;\n",
              "    }\n",
              "\n",
              "    .dataframe tbody tr th {\n",
              "        vertical-align: top;\n",
              "    }\n",
              "\n",
              "    .dataframe thead th {\n",
              "        text-align: right;\n",
              "    }\n",
              "</style>\n",
              "<table border=\"1\" class=\"dataframe\">\n",
              "  <thead>\n",
              "    <tr style=\"text-align: right;\">\n",
              "      <th></th>\n",
              "      <th>mean_temperature_c</th>\n",
              "    </tr>\n",
              "    <tr>\n",
              "      <th>mean_temperature_c_bins</th>\n",
              "      <th></th>\n",
              "    </tr>\n",
              "  </thead>\n",
              "  <tbody>\n",
              "    <tr>\n",
              "      <th>0-15</th>\n",
              "      <td>10.156127</td>\n",
              "    </tr>\n",
              "    <tr>\n",
              "      <th>16-25</th>\n",
              "      <td>16.006469</td>\n",
              "    </tr>\n",
              "    <tr>\n",
              "      <th>26-50</th>\n",
              "      <td>21.584419</td>\n",
              "    </tr>\n",
              "  </tbody>\n",
              "</table>\n",
              "</div>"
            ],
            "text/plain": [
              "                         mean_temperature_c\n",
              "mean_temperature_c_bins                    \n",
              "0-15                              10.156127\n",
              "16-25                             16.006469\n",
              "26-50                             21.584419"
            ]
          },
          "metadata": {
            "tags": []
          },
          "execution_count": 187
        }
      ]
    },
    {
      "cell_type": "code",
      "metadata": {
        "id": "hDt3_Dukatp7",
        "colab_type": "code",
        "colab": {}
      },
      "source": [
        "temp_dur = df_all.loc[:, ['mean_temperature_c_bins' , 'duration']]\n",
        "\n",
        "\n",
        "\n",
        "temp_dur.groupby('mean_temperature_c_bins').hist()\n",
        "\n"
      ],
      "execution_count": 0,
      "outputs": []
    },
    {
      "cell_type": "code",
      "metadata": {
        "id": "ryYREhRMcyp9",
        "colab_type": "code",
        "outputId": "1b32d50c-5569-4e8d-a978-25ad439e3438",
        "colab": {
          "base_uri": "https://localhost:8080/",
          "height": 282
        }
      },
      "source": [
        "temp_dur = df_all.loc[:, ['mean_temperature_c_bins' , 'duration']]\n",
        "temp_dur = df_all.loc[:, ['mean_temperature_c_bins' , 'duration']]\n",
        "temp_dur[\"duration\"] = temp_dur[\"duration\"].dt.total_seconds()\n",
        "\n",
        "\n",
        "temp_dur.sort_values(by='duration').hist(by='mean_temperature_c_bins', column= 'duration', figsize=(10,10))\n",
        "plt.ylim((0, 10000))\n"
      ],
      "execution_count": 0,
      "outputs": [
        {
          "output_type": "execute_result",
          "data": {
            "text/plain": [
              "<matplotlib.axes._subplots.AxesSubplot at 0x7f01b3434f98>"
            ]
          },
          "metadata": {
            "tags": []
          },
          "execution_count": 270
        },
        {
          "output_type": "display_data",
          "data": {
            "image/png": "[encoded data removed]",
            "text/plain": [
              "<Figure size 432x288 with 1 Axes>"
            ]
          },
          "metadata": {
            "tags": []
          }
        }
      ]
    },
    {
      "cell_type": "code",
      "metadata": {
        "id": "D99G2EtEkf2z",
        "colab_type": "code",
        "outputId": "5db963cc-5c30-4372-a930-da5eefc2fc9d",
        "colab": {
          "base_uri": "https://localhost:8080/",
          "height": 221
        }
      },
      "source": [
        "\n",
        "temp_dur[\"duration\"]\n",
        "#temp_dur.groupby(\"mean_temperature_c_bins\").mean().plot.bar()"
      ],
      "execution_count": 0,
      "outputs": [
        {
          "output_type": "execute_result",
          "data": {
            "text/plain": [
              "0        724800.0\n",
              "1        619980.0\n",
              "2        350520.0\n",
              "3        320280.0\n",
              "4        239220.0\n",
              "           ...   \n",
              "95294        60.0\n",
              "95295        60.0\n",
              "95296        60.0\n",
              "95297        60.0\n",
              "95298        60.0\n",
              "Name: duration, Length: 95299, dtype: float64"
            ]
          },
          "metadata": {
            "tags": []
          },
          "execution_count": 257
        }
      ]
    },
    {
      "cell_type": "code",
      "metadata": {
        "id": "xTO2imu0hwjk",
        "colab_type": "code",
        "outputId": "841e0f9c-3cf4-41a1-c5ca-f13f2f0e2eaf",
        "colab": {
          "base_uri": "https://localhost:8080/",
          "height": 204
        }
      },
      "source": [
        "temp_dur.groupby(\"mean_temperature_c_bins\").describe()"
      ],
      "execution_count": 0,
      "outputs": [
        {
          "output_type": "execute_result",
          "data": {
            "text/html": [
              "<div>\n",
              "<style scoped>\n",
              "    .dataframe tbody tr th:only-of-type {\n",
              "        vertical-align: middle;\n",
              "    }\n",
              "\n",
              "    .dataframe tbody tr th {\n",
              "        vertical-align: top;\n",
              "    }\n",
              "\n",
              "    .dataframe thead tr th {\n",
              "        text-align: left;\n",
              "    }\n",
              "\n",
              "    .dataframe thead tr:last-of-type th {\n",
              "        text-align: right;\n",
              "    }\n",
              "</style>\n",
              "<table border=\"1\" class=\"dataframe\">\n",
              "  <thead>\n",
              "    <tr>\n",
              "      <th></th>\n",
              "      <th colspan=\"8\" halign=\"left\">duration</th>\n",
              "    </tr>\n",
              "    <tr>\n",
              "      <th></th>\n",
              "      <th>count</th>\n",
              "      <th>mean</th>\n",
              "      <th>std</th>\n",
              "      <th>min</th>\n",
              "      <th>25%</th>\n",
              "      <th>50%</th>\n",
              "      <th>75%</th>\n",
              "      <th>max</th>\n",
              "    </tr>\n",
              "    <tr>\n",
              "      <th>mean_temperature_c_bins</th>\n",
              "      <th></th>\n",
              "      <th></th>\n",
              "      <th></th>\n",
              "      <th></th>\n",
              "      <th></th>\n",
              "      <th></th>\n",
              "      <th></th>\n",
              "      <th></th>\n",
              "    </tr>\n",
              "  </thead>\n",
              "  <tbody>\n",
              "    <tr>\n",
              "      <th>0-15</th>\n",
              "      <td>10152.0</td>\n",
              "      <td>2534.905437</td>\n",
              "      <td>3604.536078</td>\n",
              "      <td>60.0</td>\n",
              "      <td>1380.0</td>\n",
              "      <td>2280.0</td>\n",
              "      <td>3180.0</td>\n",
              "      <td>86160.0</td>\n",
              "    </tr>\n",
              "    <tr>\n",
              "      <th>16-25</th>\n",
              "      <td>74646.0</td>\n",
              "      <td>2421.499076</td>\n",
              "      <td>2455.619246</td>\n",
              "      <td>60.0</td>\n",
              "      <td>1380.0</td>\n",
              "      <td>2280.0</td>\n",
              "      <td>3240.0</td>\n",
              "      <td>86340.0</td>\n",
              "    </tr>\n",
              "    <tr>\n",
              "      <th>26-50</th>\n",
              "      <td>10490.0</td>\n",
              "      <td>2506.632984</td>\n",
              "      <td>2794.308171</td>\n",
              "      <td>0.0</td>\n",
              "      <td>1440.0</td>\n",
              "      <td>2340.0</td>\n",
              "      <td>3240.0</td>\n",
              "      <td>80880.0</td>\n",
              "    </tr>\n",
              "  </tbody>\n",
              "</table>\n",
              "</div>"
            ],
            "text/plain": [
              "                        duration               ...                 \n",
              "                           count         mean  ...     75%      max\n",
              "mean_temperature_c_bins                        ...                 \n",
              "0-15                     10152.0  2534.905437  ...  3180.0  86160.0\n",
              "16-25                    74646.0  2421.499076  ...  3240.0  86340.0\n",
              "26-50                    10490.0  2506.632984  ...  3240.0  80880.0\n",
              "\n",
              "[3 rows x 8 columns]"
            ]
          },
          "metadata": {
            "tags": []
          },
          "execution_count": 248
        }
      ]
    },
    {
      "cell_type": "code",
      "metadata": {
        "id": "Uq_7rOQej-1U",
        "colab_type": "code",
        "outputId": "b6f5fa62-13c7-421d-f009-33d502bfc5dd",
        "colab": {
          "base_uri": "https://localhost:8080/",
          "height": 253
        }
      },
      "source": [
        "df_all.groupby(\"mean_temperature_c_bins\").describe()"
      ],
      "execution_count": 0,
      "outputs": [
        {
          "output_type": "execute_result",
          "data": {
            "text/html": [
              "<div>\n",
              "<style scoped>\n",
              "    .dataframe tbody tr th:only-of-type {\n",
              "        vertical-align: middle;\n",
              "    }\n",
              "\n",
              "    .dataframe tbody tr th {\n",
              "        vertical-align: top;\n",
              "    }\n",
              "\n",
              "    .dataframe thead tr th {\n",
              "        text-align: left;\n",
              "    }\n",
              "\n",
              "    .dataframe thead tr:last-of-type th {\n",
              "        text-align: right;\n",
              "    }\n",
              "</style>\n",
              "<table border=\"1\" class=\"dataframe\">\n",
              "  <thead>\n",
              "    <tr>\n",
              "      <th></th>\n",
              "      <th colspan=\"8\" halign=\"left\">id</th>\n",
              "      <th colspan=\"8\" halign=\"left\">start_station_id</th>\n",
              "      <th colspan=\"8\" halign=\"left\">end_station_id</th>\n",
              "      <th colspan=\"8\" halign=\"left\">bike_id</th>\n",
              "      <th colspan=\"8\" halign=\"left\">zip_code</th>\n",
              "      <th>...</th>\n",
              "      <th colspan=\"8\" halign=\"left\">date_month</th>\n",
              "      <th colspan=\"8\" halign=\"left\">date_day_y</th>\n",
              "      <th colspan=\"8\" halign=\"left\">lat</th>\n",
              "      <th colspan=\"8\" halign=\"left\">long</th>\n",
              "      <th colspan=\"8\" halign=\"left\">dock_count</th>\n",
              "    </tr>\n",
              "    <tr>\n",
              "      <th></th>\n",
              "      <th>count</th>\n",
              "      <th>mean</th>\n",
              "      <th>std</th>\n",
              "      <th>min</th>\n",
              "      <th>25%</th>\n",
              "      <th>50%</th>\n",
              "      <th>75%</th>\n",
              "      <th>max</th>\n",
              "      <th>count</th>\n",
              "      <th>mean</th>\n",
              "      <th>std</th>\n",
              "      <th>min</th>\n",
              "      <th>25%</th>\n",
              "      <th>50%</th>\n",
              "      <th>75%</th>\n",
              "      <th>max</th>\n",
              "      <th>count</th>\n",
              "      <th>mean</th>\n",
              "      <th>std</th>\n",
              "      <th>min</th>\n",
              "      <th>25%</th>\n",
              "      <th>50%</th>\n",
              "      <th>75%</th>\n",
              "      <th>max</th>\n",
              "      <th>count</th>\n",
              "      <th>mean</th>\n",
              "      <th>std</th>\n",
              "      <th>min</th>\n",
              "      <th>25%</th>\n",
              "      <th>50%</th>\n",
              "      <th>75%</th>\n",
              "      <th>max</th>\n",
              "      <th>count</th>\n",
              "      <th>mean</th>\n",
              "      <th>std</th>\n",
              "      <th>min</th>\n",
              "      <th>25%</th>\n",
              "      <th>50%</th>\n",
              "      <th>75%</th>\n",
              "      <th>max</th>\n",
              "      <th>...</th>\n",
              "      <th>count</th>\n",
              "      <th>mean</th>\n",
              "      <th>std</th>\n",
              "      <th>min</th>\n",
              "      <th>25%</th>\n",
              "      <th>50%</th>\n",
              "      <th>75%</th>\n",
              "      <th>max</th>\n",
              "      <th>count</th>\n",
              "      <th>mean</th>\n",
              "      <th>std</th>\n",
              "      <th>min</th>\n",
              "      <th>25%</th>\n",
              "      <th>50%</th>\n",
              "      <th>75%</th>\n",
              "      <th>max</th>\n",
              "      <th>count</th>\n",
              "      <th>mean</th>\n",
              "      <th>std</th>\n",
              "      <th>min</th>\n",
              "      <th>25%</th>\n",
              "      <th>50%</th>\n",
              "      <th>75%</th>\n",
              "      <th>max</th>\n",
              "      <th>count</th>\n",
              "      <th>mean</th>\n",
              "      <th>std</th>\n",
              "      <th>min</th>\n",
              "      <th>25%</th>\n",
              "      <th>50%</th>\n",
              "      <th>75%</th>\n",
              "      <th>max</th>\n",
              "      <th>count</th>\n",
              "      <th>mean</th>\n",
              "      <th>std</th>\n",
              "      <th>min</th>\n",
              "      <th>25%</th>\n",
              "      <th>50%</th>\n",
              "      <th>75%</th>\n",
              "      <th>max</th>\n",
              "    </tr>\n",
              "    <tr>\n",
              "      <th>mean_temperature_c_bins</th>\n",
              "      <th></th>\n",
              "      <th></th>\n",
              "      <th></th>\n",
              "      <th></th>\n",
              "      <th></th>\n",
              "      <th></th>\n",
              "      <th></th>\n",
              "      <th></th>\n",
              "      <th></th>\n",
              "      <th></th>\n",
              "      <th></th>\n",
              "      <th></th>\n",
              "      <th></th>\n",
              "      <th></th>\n",
              "      <th></th>\n",
              "      <th></th>\n",
              "      <th></th>\n",
              "      <th></th>\n",
              "      <th></th>\n",
              "      <th></th>\n",
              "      <th></th>\n",
              "      <th></th>\n",
              "      <th></th>\n",
              "      <th></th>\n",
              "      <th></th>\n",
              "      <th></th>\n",
              "      <th></th>\n",
              "      <th></th>\n",
              "      <th></th>\n",
              "      <th></th>\n",
              "      <th></th>\n",
              "      <th></th>\n",
              "      <th></th>\n",
              "      <th></th>\n",
              "      <th></th>\n",
              "      <th></th>\n",
              "      <th></th>\n",
              "      <th></th>\n",
              "      <th></th>\n",
              "      <th></th>\n",
              "      <th></th>\n",
              "      <th></th>\n",
              "      <th></th>\n",
              "      <th></th>\n",
              "      <th></th>\n",
              "      <th></th>\n",
              "      <th></th>\n",
              "      <th></th>\n",
              "      <th></th>\n",
              "      <th></th>\n",
              "      <th></th>\n",
              "      <th></th>\n",
              "      <th></th>\n",
              "      <th></th>\n",
              "      <th></th>\n",
              "      <th></th>\n",
              "      <th></th>\n",
              "      <th></th>\n",
              "      <th></th>\n",
              "      <th></th>\n",
              "      <th></th>\n",
              "      <th></th>\n",
              "      <th></th>\n",
              "      <th></th>\n",
              "      <th></th>\n",
              "      <th></th>\n",
              "      <th></th>\n",
              "      <th></th>\n",
              "      <th></th>\n",
              "      <th></th>\n",
              "      <th></th>\n",
              "      <th></th>\n",
              "      <th></th>\n",
              "      <th></th>\n",
              "      <th></th>\n",
              "      <th></th>\n",
              "      <th></th>\n",
              "      <th></th>\n",
              "      <th></th>\n",
              "      <th></th>\n",
              "      <th></th>\n",
              "    </tr>\n",
              "  </thead>\n",
              "  <tbody>\n",
              "    <tr>\n",
              "      <th>0-15</th>\n",
              "      <td>10152.0</td>\n",
              "      <td>400456.035461</td>\n",
              "      <td>234530.212560</td>\n",
              "      <td>73614.0</td>\n",
              "      <td>134941.00</td>\n",
              "      <td>576112.5</td>\n",
              "      <td>610011.75</td>\n",
              "      <td>714459.0</td>\n",
              "      <td>10152.0</td>\n",
              "      <td>57.878842</td>\n",
              "      <td>17.283057</td>\n",
              "      <td>2.0</td>\n",
              "      <td>54.0</td>\n",
              "      <td>63.0</td>\n",
              "      <td>69.0</td>\n",
              "      <td>83.0</td>\n",
              "      <td>10152.0</td>\n",
              "      <td>58.454590</td>\n",
              "      <td>17.656301</td>\n",
              "      <td>2.0</td>\n",
              "      <td>54.0</td>\n",
              "      <td>64.0</td>\n",
              "      <td>70.0</td>\n",
              "      <td>83.0</td>\n",
              "      <td>10152.0</td>\n",
              "      <td>424.774232</td>\n",
              "      <td>153.901163</td>\n",
              "      <td>9.0</td>\n",
              "      <td>333.0</td>\n",
              "      <td>435.0</td>\n",
              "      <td>544.0</td>\n",
              "      <td>878.0</td>\n",
              "      <td>10152.0</td>\n",
              "      <td>94156.252955</td>\n",
              "      <td>219.736507</td>\n",
              "      <td>94041.0</td>\n",
              "      <td>94107.0</td>\n",
              "      <td>94107.0</td>\n",
              "      <td>94107.0</td>\n",
              "      <td>95113.0</td>\n",
              "      <td>...</td>\n",
              "      <td>10152.0</td>\n",
              "      <td>5.458038</td>\n",
              "      <td>5.050568</td>\n",
              "      <td>1.0</td>\n",
              "      <td>1.0</td>\n",
              "      <td>2.0</td>\n",
              "      <td>12.0</td>\n",
              "      <td>12.0</td>\n",
              "      <td>10152.0</td>\n",
              "      <td>14.767435</td>\n",
              "      <td>8.998680</td>\n",
              "      <td>1.0</td>\n",
              "      <td>6.0</td>\n",
              "      <td>14.0</td>\n",
              "      <td>23.0</td>\n",
              "      <td>31.0</td>\n",
              "      <td>10152.0</td>\n",
              "      <td>37.738169</td>\n",
              "      <td>0.130268</td>\n",
              "      <td>37.329732</td>\n",
              "      <td>37.776600</td>\n",
              "      <td>37.782259</td>\n",
              "      <td>37.788446</td>\n",
              "      <td>37.80477</td>\n",
              "      <td>10152.0</td>\n",
              "      <td>-122.354871</td>\n",
              "      <td>0.130857</td>\n",
              "      <td>-122.418954</td>\n",
              "      <td>-122.402717</td>\n",
              "      <td>-122.39547</td>\n",
              "      <td>-122.392738</td>\n",
              "      <td>-121.877349</td>\n",
              "      <td>10152.0</td>\n",
              "      <td>19.364263</td>\n",
              "      <td>4.268694</td>\n",
              "      <td>11.0</td>\n",
              "      <td>15.0</td>\n",
              "      <td>19.0</td>\n",
              "      <td>23.0</td>\n",
              "      <td>27.0</td>\n",
              "    </tr>\n",
              "    <tr>\n",
              "      <th>16-25</th>\n",
              "      <td>74646.0</td>\n",
              "      <td>474839.543057</td>\n",
              "      <td>257036.592128</td>\n",
              "      <td>4275.0</td>\n",
              "      <td>245809.75</td>\n",
              "      <td>510785.5</td>\n",
              "      <td>700074.75</td>\n",
              "      <td>905378.0</td>\n",
              "      <td>74646.0</td>\n",
              "      <td>58.275514</td>\n",
              "      <td>16.606418</td>\n",
              "      <td>2.0</td>\n",
              "      <td>54.0</td>\n",
              "      <td>63.0</td>\n",
              "      <td>69.0</td>\n",
              "      <td>84.0</td>\n",
              "      <td>74646.0</td>\n",
              "      <td>58.636390</td>\n",
              "      <td>16.863895</td>\n",
              "      <td>2.0</td>\n",
              "      <td>54.0</td>\n",
              "      <td>64.0</td>\n",
              "      <td>69.0</td>\n",
              "      <td>84.0</td>\n",
              "      <td>74646.0</td>\n",
              "      <td>425.737334</td>\n",
              "      <td>155.795292</td>\n",
              "      <td>9.0</td>\n",
              "      <td>331.0</td>\n",
              "      <td>439.0</td>\n",
              "      <td>546.0</td>\n",
              "      <td>878.0</td>\n",
              "      <td>74646.0</td>\n",
              "      <td>94151.374836</td>\n",
              "      <td>203.318025</td>\n",
              "      <td>94041.0</td>\n",
              "      <td>94107.0</td>\n",
              "      <td>94107.0</td>\n",
              "      <td>94107.0</td>\n",
              "      <td>95113.0</td>\n",
              "      <td>...</td>\n",
              "      <td>74646.0</td>\n",
              "      <td>6.328845</td>\n",
              "      <td>3.300050</td>\n",
              "      <td>1.0</td>\n",
              "      <td>3.0</td>\n",
              "      <td>6.0</td>\n",
              "      <td>9.0</td>\n",
              "      <td>12.0</td>\n",
              "      <td>74646.0</td>\n",
              "      <td>15.683439</td>\n",
              "      <td>8.428775</td>\n",
              "      <td>1.0</td>\n",
              "      <td>9.0</td>\n",
              "      <td>16.0</td>\n",
              "      <td>23.0</td>\n",
              "      <td>31.0</td>\n",
              "      <td>74646.0</td>\n",
              "      <td>37.740920</td>\n",
              "      <td>0.125374</td>\n",
              "      <td>37.329732</td>\n",
              "      <td>37.776600</td>\n",
              "      <td>37.781752</td>\n",
              "      <td>37.788446</td>\n",
              "      <td>37.80477</td>\n",
              "      <td>74646.0</td>\n",
              "      <td>-122.358717</td>\n",
              "      <td>0.122871</td>\n",
              "      <td>-122.418954</td>\n",
              "      <td>-122.402717</td>\n",
              "      <td>-122.39547</td>\n",
              "      <td>-122.392738</td>\n",
              "      <td>-121.877349</td>\n",
              "      <td>74646.0</td>\n",
              "      <td>19.572676</td>\n",
              "      <td>4.292162</td>\n",
              "      <td>11.0</td>\n",
              "      <td>15.0</td>\n",
              "      <td>19.0</td>\n",
              "      <td>23.0</td>\n",
              "      <td>27.0</td>\n",
              "    </tr>\n",
              "    <tr>\n",
              "      <th>26-50</th>\n",
              "      <td>10490.0</td>\n",
              "      <td>549661.631840</td>\n",
              "      <td>267682.286456</td>\n",
              "      <td>4399.0</td>\n",
              "      <td>378004.25</td>\n",
              "      <td>462569.5</td>\n",
              "      <td>864527.75</td>\n",
              "      <td>913455.0</td>\n",
              "      <td>10490.0</td>\n",
              "      <td>52.776644</td>\n",
              "      <td>21.469589</td>\n",
              "      <td>2.0</td>\n",
              "      <td>41.0</td>\n",
              "      <td>61.0</td>\n",
              "      <td>69.0</td>\n",
              "      <td>84.0</td>\n",
              "      <td>10490.0</td>\n",
              "      <td>53.027359</td>\n",
              "      <td>21.738707</td>\n",
              "      <td>2.0</td>\n",
              "      <td>41.0</td>\n",
              "      <td>62.0</td>\n",
              "      <td>69.0</td>\n",
              "      <td>84.0</td>\n",
              "      <td>10490.0</td>\n",
              "      <td>400.242898</td>\n",
              "      <td>180.090575</td>\n",
              "      <td>9.0</td>\n",
              "      <td>283.0</td>\n",
              "      <td>415.0</td>\n",
              "      <td>544.0</td>\n",
              "      <td>878.0</td>\n",
              "      <td>10490.0</td>\n",
              "      <td>94231.040610</td>\n",
              "      <td>328.967951</td>\n",
              "      <td>94041.0</td>\n",
              "      <td>94107.0</td>\n",
              "      <td>94107.0</td>\n",
              "      <td>94107.0</td>\n",
              "      <td>95113.0</td>\n",
              "      <td>...</td>\n",
              "      <td>10490.0</td>\n",
              "      <td>7.751096</td>\n",
              "      <td>1.438315</td>\n",
              "      <td>1.0</td>\n",
              "      <td>7.0</td>\n",
              "      <td>8.0</td>\n",
              "      <td>9.0</td>\n",
              "      <td>10.0</td>\n",
              "      <td>10490.0</td>\n",
              "      <td>16.325071</td>\n",
              "      <td>9.485222</td>\n",
              "      <td>1.0</td>\n",
              "      <td>7.0</td>\n",
              "      <td>17.0</td>\n",
              "      <td>25.0</td>\n",
              "      <td>31.0</td>\n",
              "      <td>10490.0</td>\n",
              "      <td>37.692222</td>\n",
              "      <td>0.172890</td>\n",
              "      <td>37.329732</td>\n",
              "      <td>37.771058</td>\n",
              "      <td>37.780526</td>\n",
              "      <td>37.786978</td>\n",
              "      <td>37.80477</td>\n",
              "      <td>10490.0</td>\n",
              "      <td>-122.309298</td>\n",
              "      <td>0.176834</td>\n",
              "      <td>-122.418954</td>\n",
              "      <td>-122.401014</td>\n",
              "      <td>-122.39547</td>\n",
              "      <td>-122.390288</td>\n",
              "      <td>-121.877349</td>\n",
              "      <td>10490.0</td>\n",
              "      <td>19.483127</td>\n",
              "      <td>4.461160</td>\n",
              "      <td>11.0</td>\n",
              "      <td>15.0</td>\n",
              "      <td>19.0</td>\n",
              "      <td>23.0</td>\n",
              "      <td>27.0</td>\n",
              "    </tr>\n",
              "  </tbody>\n",
              "</table>\n",
              "<p>3 rows × 144 columns</p>\n",
              "</div>"
            ],
            "text/plain": [
              "                              id                 ... dock_count      \n",
              "                           count           mean  ...        75%   max\n",
              "mean_temperature_c_bins                          ...                 \n",
              "0-15                     10152.0  400456.035461  ...       23.0  27.0\n",
              "16-25                    74646.0  474839.543057  ...       23.0  27.0\n",
              "26-50                    10490.0  549661.631840  ...       23.0  27.0\n",
              "\n",
              "[3 rows x 144 columns]"
            ]
          },
          "metadata": {
            "tags": []
          },
          "execution_count": 250
        }
      ]
    },
    {
      "cell_type": "markdown",
      "metadata": {
        "id": "boHmDywp14zc",
        "colab_type": "text"
      },
      "source": [
        "## Popular Bike Type brand & color\n",
        "\n",
        "* most trips use type X, where the popular brand is X and Santa Cruz\n"
      ]
    },
    {
      "cell_type": "code",
      "metadata": {
        "id": "DjXjhfqx15L9",
        "colab_type": "code",
        "colab": {}
      },
      "source": [
        "df_group_bike_trips=df_all.groupby(['bike_type','bike_brand']).agg({'start_date':'count'})\n",
        "df_group_bike_trips.head()\n",
        "df_group_bike_trips.unstack(-1).plot(kind='bar', figsize=(12, 6), subplots=False)\n",
        "\n",
        "\n",
        "df_all.describe()\n",
        "\n",
        "#add bike type depend on temperture"
      ],
      "execution_count": 0,
      "outputs": []
    }
  ]
}