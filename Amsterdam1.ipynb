{
  "nbformat": 4,
  "nbformat_minor": 0,
  "metadata": {
    "colab": {
      "name": "Amsterdam Airbnb",
      "provenance": [],
      "collapsed_sections": [],
      "authorship_tag": "ABX9TyOikQnat1spjzAczIKclIzN",
      "include_colab_link": true
    },
    "kernelspec": {
      "name": "python3",
      "display_name": "Python 3"
    }
  },
  "cells": [
    {
      "cell_type": "markdown",
      "metadata": {
        "id": "view-in-github",
        "colab_type": "text"
      },
      "source": [
        "<a href=\"https://colab.research.google.com/github/orbenishay/pandas-project/blob/master/Amsterdam1.ipynb\" target=\"_parent\"><img src=\"https://colab.research.google.com/assets/colab-badge.svg\" alt=\"Open In Colab\"/></a>"
      ]
    },
    {
      "cell_type": "markdown",
      "metadata": {
        "id": "af1M9aPTS0hg",
        "colab_type": "text"
      },
      "source": [
        "# **Amsterdam Airbnb** \n",
        "https://www.kaggle.com/adityadeshpande23/amsterdam-airbnb\n",
        "\n",
        "![Amsterdam](data:image/jpeg;base64,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)\n"
      ]
    },
    {
      "cell_type": "code",
      "metadata": {
        "id": "FOgwCWYFS0pQ",
        "colab_type": "code",
        "colab": {
          "base_uri": "https://localhost:8080/",
          "height": 50
        },
        "outputId": "ac7437e5-19db-4063-ea9a-6b6a857f8cad"
      },
      "source": [
        "\n",
        "import pandas as pd # General tools\n",
        "import numpy as np\n",
        "import matplotlib.pyplot as plt\n",
        "%matplotlib inline\n",
        "import seaborn as sns\n",
        "import re\n",
        "import warnings\n",
        "from datetime import datetime # Pandas\n",
        "from datetime import timedelta\n",
        "from scipy.optimize import curve_fit# For curve fitting\n",
        "from sklearn.base import TransformerMixin # For transformations and predictions\n",
        "from sklearn.preprocessing import FunctionTransformer\n",
        "from sklearn.base import BaseEstimator # For predictions\n",
        "from sklearn.metrics import mean_squared_log_error as msle # For scoring\n",
        "from sklearn.metrics import mean_squared_error as mse # For scoring\n",
        "from sklearn.linear_model import LinearRegression\n",
        "from sklearn.tree import DecisionTreeRegressor, export_graphviz\n",
        "from sklearn.neighbors import KNeighborsRegressor\n",
        "from sklearn.preprocessing import MinMaxScaler\n",
        "from sklearn.metrics import pairwise_distances\n",
        "import pydot as pyd # For the tree visualization\n",
        "from IPython.display import Image\n",
        "from sklearn.externals.six import StringIO\n",
        "from sklearn.model_selection import train_test_split # For validation\n",
        "from sklearn.impute import SimpleImputer\n",
        "from sklearn.preprocessing import PolynomialFeatures\n",
        "from sklearn.preprocessing import LabelBinarizer\n",
        "from sklearn.feature_extraction.text import CountVectorizer\n",
        "!pip install pydot;\n"
      ],
      "execution_count": 3,
      "outputs": [
        {
          "output_type": "stream",
          "text": [
            "Requirement already satisfied: pydot in /usr/local/lib/python3.6/dist-packages (1.3.0)\n",
            "Requirement already satisfied: pyparsing>=2.1.4 in /usr/local/lib/python3.6/dist-packages (from pydot) (2.4.6)\n"
          ],
          "name": "stdout"
        }
      ]
    },
    {
      "cell_type": "code",
      "metadata": {
        "id": "tg61B2nTU1qR",
        "colab_type": "code",
        "colab": {
          "resources": {
            "http://localhost:8080/nbextensions/google.colab/files.js": {
              "data": "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",
              "ok": true,
              "headers": [
                [
                  "content-type",
                  "application/javascript"
                ]
              ],
              "status": 200,
              "status_text": ""
            }
          },
          "base_uri": "https://localhost:8080/",
          "height": 74
        },
        "outputId": "176ff763-81ec-46cd-ca40-e5de36a38b8f"
      },
      "source": [
        "import sys\n",
        "\n",
        "if 'google.colab' in sys.modules:\n",
        "    from google.colab import files\n",
        "    uploaded = files.upload()"
      ],
      "execution_count": 4,
      "outputs": [
        {
          "output_type": "display_data",
          "data": {
            "text/html": [
              "\n",
              "     <input type=\"file\" id=\"files-c8416cf8-fedc-4cb9-aaa8-c74f1476a900\" name=\"files[]\" multiple disabled />\n",
              "     <output id=\"result-c8416cf8-fedc-4cb9-aaa8-c74f1476a900\">\n",
              "      Upload widget is only available when the cell has been executed in the\n",
              "      current browser session. Please rerun this cell to enable.\n",
              "      </output>\n",
              "      <script src=\"/nbextensions/google.colab/files.js\"></script> "
            ],
            "text/plain": [
              "<IPython.core.display.HTML object>"
            ]
          },
          "metadata": {
            "tags": []
          }
        },
        {
          "output_type": "stream",
          "text": [
            "Saving Amsterdam1.csv to Amsterdam1.csv\n"
          ],
          "name": "stdout"
        }
      ]
    },
    {
      "cell_type": "code",
      "metadata": {
        "id": "xY9TBr2ZWF7O",
        "colab_type": "code",
        "colab": {
          "base_uri": "https://localhost:8080/",
          "height": 329
        },
        "outputId": "24de3d24-2227-4ba3-cd84-3fa4c4309a88"
      },
      "source": [
        "bnb = pd.read_csv('Amsterdam1.csv', index_col='#')\n",
        "bnb.head()"
      ],
      "execution_count": 6,
      "outputs": [
        {
          "output_type": "execute_result",
          "data": {
            "text/html": [
              "<div>\n",
              "<style scoped>\n",
              "    .dataframe tbody tr th:only-of-type {\n",
              "        vertical-align: middle;\n",
              "    }\n",
              "\n",
              "    .dataframe tbody tr th {\n",
              "        vertical-align: top;\n",
              "    }\n",
              "\n",
              "    .dataframe thead th {\n",
              "        text-align: right;\n",
              "    }\n",
              "</style>\n",
              "<table border=\"1\" class=\"dataframe\">\n",
              "  <thead>\n",
              "    <tr style=\"text-align: right;\">\n",
              "      <th></th>\n",
              "      <th>latitude</th>\n",
              "      <th>longitude</th>\n",
              "      <th>d_centre</th>\n",
              "      <th>accommodates</th>\n",
              "      <th>bathrooms</th>\n",
              "      <th>bedrooms</th>\n",
              "      <th>calculated_host_listings_count</th>\n",
              "      <th>guests_included</th>\n",
              "      <th>host_listings_count</th>\n",
              "      <th>minimum_nights</th>\n",
              "      <th>number_of_reviews</th>\n",
              "      <th>instant_bookable</th>\n",
              "      <th>room_type</th>\n",
              "      <th>price</th>\n",
              "    </tr>\n",
              "    <tr>\n",
              "      <th>#</th>\n",
              "      <th></th>\n",
              "      <th></th>\n",
              "      <th></th>\n",
              "      <th></th>\n",
              "      <th></th>\n",
              "      <th></th>\n",
              "      <th></th>\n",
              "      <th></th>\n",
              "      <th></th>\n",
              "      <th></th>\n",
              "      <th></th>\n",
              "      <th></th>\n",
              "      <th></th>\n",
              "      <th></th>\n",
              "    </tr>\n",
              "  </thead>\n",
              "  <tbody>\n",
              "    <tr>\n",
              "      <th>1</th>\n",
              "      <td>52.358466</td>\n",
              "      <td>4.933843</td>\n",
              "      <td>3.279483</td>\n",
              "      <td>4</td>\n",
              "      <td>2.0</td>\n",
              "      <td>2</td>\n",
              "      <td>1</td>\n",
              "      <td>1</td>\n",
              "      <td>1</td>\n",
              "      <td>2</td>\n",
              "      <td>8</td>\n",
              "      <td>Not Possible</td>\n",
              "      <td>Entire home/apt</td>\n",
              "      <td>160</td>\n",
              "    </tr>\n",
              "    <tr>\n",
              "      <th>2</th>\n",
              "      <td>52.363589</td>\n",
              "      <td>4.983353</td>\n",
              "      <td>5.951843</td>\n",
              "      <td>4</td>\n",
              "      <td>1.0</td>\n",
              "      <td>2</td>\n",
              "      <td>1</td>\n",
              "      <td>2</td>\n",
              "      <td>1</td>\n",
              "      <td>3</td>\n",
              "      <td>0</td>\n",
              "      <td>Not Possible</td>\n",
              "      <td>Entire home/apt</td>\n",
              "      <td>120</td>\n",
              "    </tr>\n",
              "    <tr>\n",
              "      <th>3</th>\n",
              "      <td>52.375209</td>\n",
              "      <td>4.861647</td>\n",
              "      <td>2.601055</td>\n",
              "      <td>2</td>\n",
              "      <td>1.0</td>\n",
              "      <td>1</td>\n",
              "      <td>1</td>\n",
              "      <td>1</td>\n",
              "      <td>1</td>\n",
              "      <td>3</td>\n",
              "      <td>8</td>\n",
              "      <td>Not Possible</td>\n",
              "      <td>Entire home/apt</td>\n",
              "      <td>99</td>\n",
              "    </tr>\n",
              "    <tr>\n",
              "      <th>4</th>\n",
              "      <td>52.387382</td>\n",
              "      <td>4.890457</td>\n",
              "      <td>1.095138</td>\n",
              "      <td>2</td>\n",
              "      <td>1.0</td>\n",
              "      <td>1</td>\n",
              "      <td>1</td>\n",
              "      <td>1</td>\n",
              "      <td>1</td>\n",
              "      <td>2</td>\n",
              "      <td>41</td>\n",
              "      <td>Not Possible</td>\n",
              "      <td>Private room</td>\n",
              "      <td>100</td>\n",
              "    </tr>\n",
              "    <tr>\n",
              "      <th>5</th>\n",
              "      <td>52.384062</td>\n",
              "      <td>4.889877</td>\n",
              "      <td>0.844491</td>\n",
              "      <td>2</td>\n",
              "      <td>1.0</td>\n",
              "      <td>1</td>\n",
              "      <td>1</td>\n",
              "      <td>1</td>\n",
              "      <td>1</td>\n",
              "      <td>3</td>\n",
              "      <td>0</td>\n",
              "      <td>Not Possible</td>\n",
              "      <td>Entire home/apt</td>\n",
              "      <td>175</td>\n",
              "    </tr>\n",
              "  </tbody>\n",
              "</table>\n",
              "</div>"
            ],
            "text/plain": [
              "    latitude  longitude  d_centre  ...  instant_bookable        room_type  price\n",
              "#                                  ...                                          \n",
              "1  52.358466   4.933843  3.279483  ...      Not Possible  Entire home/apt    160\n",
              "2  52.363589   4.983353  5.951843  ...      Not Possible  Entire home/apt    120\n",
              "3  52.375209   4.861647  2.601055  ...      Not Possible  Entire home/apt     99\n",
              "4  52.387382   4.890457  1.095138  ...      Not Possible     Private room    100\n",
              "5  52.384062   4.889877  0.844491  ...      Not Possible  Entire home/apt    175\n",
              "\n",
              "[5 rows x 14 columns]"
            ]
          },
          "metadata": {
            "tags": []
          },
          "execution_count": 6
        }
      ]
    },
    {
      "cell_type": "markdown",
      "metadata": {
        "id": "VzrrxHjXaP_l",
        "colab_type": "text"
      },
      "source": [
        "## **Data Cleansing**"
      ]
    },
    {
      "cell_type": "code",
      "metadata": {
        "id": "Wwz2ZdXFaW0N",
        "colab_type": "code",
        "colab": {}
      },
      "source": [
        "# DataFrame actions:\n",
        "imdb = imdb[imdb.isnull().sum(axis=1)<3] # Remove rows with more than 3 `NaN`'s.\n",
        "imdb = imdb.loc[:, ~imdb.columns.str.contains(r'facebook|num', case=False)] # remove specific columns\n",
        "imdb.drop_duplicates(inplace=True) # Remove duplicates\n",
        "imdb.drop_duplicates(subset=['director_name', 'title_year'], inplace=True) # Remove duplicates with subsets.\n",
        "# Only consider certain columns for identifying duplicates, by default use all of the columns\n",
        "imdb.index.value_counts().head() # look for duplications\n",
        "imdb.loc['Ben-Hur'] # show all columns values for a specific row\n",
        "imdb.iloc[:,1:3] # slice dataframe (show specific columns number)\n",
        "imdb.loc[:,['imdb_score','budget']] # slice dataframe (show specific columns)\n",
        "imdb[imdb.director_name.isin(good_directors)] # filter on column values\n",
        "imdb.director_name.loc[:,].count() # count of entries in a column of a df\n",
        "imdb.director_name.shape # dimention of df\n",
        "imdb.title_year.min() # what is the Min of a column\n",
        "imdb.title_year.idxmin() # what is the index where the value of column is Min\n",
        "X_train = people_train[['Weight']] # subset a dataframe (returns a dataframe due to \"[[]]\")\n",
        "y_train = people_train['Height']   # subset a dataframe (returns a series    due to \"[]\")\n",
        "\n",
        "df_station[['city','dock_count']].groupby('city').describe() # describe with subset"
      ],
      "execution_count": 0,
      "outputs": []
    },
    {
      "cell_type": "markdown",
      "metadata": {
        "id": "PpeeYL6XaT-6",
        "colab_type": "text"
      },
      "source": [
        "## **EDA**"
      ]
    },
    {
      "cell_type": "code",
      "metadata": {
        "id": "sfYHZReraYV4",
        "colab_type": "code",
        "colab": {}
      },
      "source": [
        ""
      ],
      "execution_count": 0,
      "outputs": []
    },
    {
      "cell_type": "markdown",
      "metadata": {
        "id": "u3yrOxw_aYm5",
        "colab_type": "text"
      },
      "source": [
        "## **Outlier Removal**"
      ]
    },
    {
      "cell_type": "code",
      "metadata": {
        "id": "oAkZLTzjab-0",
        "colab_type": "code",
        "colab": {}
      },
      "source": [
        ""
      ],
      "execution_count": 0,
      "outputs": []
    }
  ]
}